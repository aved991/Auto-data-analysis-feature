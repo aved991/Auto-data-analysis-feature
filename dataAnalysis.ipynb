{
 "cells": [
  {
   "cell_type": "code",
   "execution_count": 11,
   "id": "24366023-c67c-4084-9c44-a4ec591c1655",
   "metadata": {},
   "outputs": [
    {
     "name": "stdout",
     "output_type": "stream",
     "text": [
      "The uploaded file format is: CSV (Comma Separated Values)\n"
     ]
    }
   ],
   "source": [
    "import pandas as pd\n",
    "import os\n",
    "import json\n",
    "import bson\n",
    "import sqlite3\n",
    "import matplotlib.pyplot as plt\n",
    "import seaborn as sns\n",
    "\n",
    "from sklearn.cluster import KMeans\n",
    "from sklearn.decomposition import PCA\n",
    "from sklearn.ensemble import IsolationForest\n",
    "\n",
    "# Data Format detection\n",
    "def identify_file_format(file_path):\n",
    "    # Get the file extension\n",
    "    _, file_extension = os.path.splitext(file_path)\n",
    "    \n",
    "    # Dictionary to map file extensions to format names\n",
    "    file_format_map = {\n",
    "        '.csv': 'CSV (Comma Separated Values)',\n",
    "        '.xml': 'XML (Extensible Markup Language)',\n",
    "        '.xls': 'Excel Spreadsheet (XLS)',\n",
    "        '.xlsx': 'Excel Spreadsheet (XLSX)',\n",
    "        '.tsv': 'TSV (Tab Separated Values)',\n",
    "        '.txt': 'Text File (TXT)',\n",
    "        '.bson': 'BSON (Binary JSON)',\n",
    "        '.sql': 'SQL (Structured Query Language)'\n",
    "    }\n",
    "    \n",
    "    # Check if the extension is in the map\n",
    "    file_format = file_format_map.get(file_extension.lower(), 'Unknown format')\n",
    "    \n",
    "    return file_format\n",
    "\n",
    "# Example usage:\n",
    "file_path = 'data.csv'\n",
    "file_type = identify_file_format(file_path)\n",
    "print(f'The uploaded file format is: {file_type}')\n",
    "    \n",
    "\n"
   ]
  },
  {
   "cell_type": "code",
   "execution_count": 15,
   "id": "7bbd3fff-797e-4dc0-89e0-b8000b2f648a",
   "metadata": {},
   "outputs": [],
   "source": [
    "## Data Preprocessing\n",
    "\n"
   ]
  },
  {
   "cell_type": "code",
   "execution_count": null,
   "id": "fbdfaf36-1a00-458b-96c6-fe42616e3885",
   "metadata": {},
   "outputs": [],
   "source": []
  }
 ],
 "metadata": {
  "kernelspec": {
   "display_name": "Python 3 (ipykernel)",
   "language": "python",
   "name": "python3"
  },
  "language_info": {
   "codemirror_mode": {
    "name": "ipython",
    "version": 3
   },
   "file_extension": ".py",
   "mimetype": "text/x-python",
   "name": "python",
   "nbconvert_exporter": "python",
   "pygments_lexer": "ipython3",
   "version": "3.12.6"
  }
 },
 "nbformat": 4,
 "nbformat_minor": 5
}
